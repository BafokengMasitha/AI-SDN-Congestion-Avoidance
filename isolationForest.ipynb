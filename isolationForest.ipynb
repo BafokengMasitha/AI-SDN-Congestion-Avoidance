{
 "cells": [
  {
   "cell_type": "code",
   "execution_count": 18,
   "id": "deccfb13",
   "metadata": {},
   "outputs": [],
   "source": [
    "#Import libraries\n",
    "import pandas as pd\n",
    "import numpy as np\n",
    "from sklearn.ensemble import IsolationForest\n",
    "from sklearn.preprocessing import StandardScaler\n",
    "import matplotlib.pyplot as plt\n",
    "import seaborn as sns\n",
    "from sklearn.decomposition import PCA\n",
    "import joblib\n"
   ]
  },
  {
   "cell_type": "code",
   "execution_count": 8,
   "id": "ebdaae6b",
   "metadata": {},
   "outputs": [
    {
     "name": "stdout",
     "output_type": "stream",
     "text": [
      "Shape: (205167, 84)\n"
     ]
    },
    {
     "data": {
      "text/html": [
       "<div>\n",
       "<style scoped>\n",
       "    .dataframe tbody tr th:only-of-type {\n",
       "        vertical-align: middle;\n",
       "    }\n",
       "\n",
       "    .dataframe tbody tr th {\n",
       "        vertical-align: top;\n",
       "    }\n",
       "\n",
       "    .dataframe thead th {\n",
       "        text-align: right;\n",
       "    }\n",
       "</style>\n",
       "<table border=\"1\" class=\"dataframe\">\n",
       "  <thead>\n",
       "    <tr style=\"text-align: right;\">\n",
       "      <th></th>\n",
       "      <th>Flow ID</th>\n",
       "      <th>Src IP</th>\n",
       "      <th>Src Port</th>\n",
       "      <th>Dst IP</th>\n",
       "      <th>Dst Port</th>\n",
       "      <th>Protocol</th>\n",
       "      <th>Timestamp</th>\n",
       "      <th>Flow Duration</th>\n",
       "      <th>Tot Fwd Pkts</th>\n",
       "      <th>Tot Bwd Pkts</th>\n",
       "      <th>...</th>\n",
       "      <th>Fwd Seg Size Min</th>\n",
       "      <th>Active Mean</th>\n",
       "      <th>Active Std</th>\n",
       "      <th>Active Max</th>\n",
       "      <th>Active Min</th>\n",
       "      <th>Idle Mean</th>\n",
       "      <th>Idle Std</th>\n",
       "      <th>Idle Max</th>\n",
       "      <th>Idle Min</th>\n",
       "      <th>Label</th>\n",
       "    </tr>\n",
       "  </thead>\n",
       "  <tbody>\n",
       "    <tr>\n",
       "      <th>0</th>\n",
       "      <td>185.127.17.56-192.168.20.133-443-53648-6</td>\n",
       "      <td>185.127.17.56</td>\n",
       "      <td>443</td>\n",
       "      <td>192.168.20.133</td>\n",
       "      <td>53648</td>\n",
       "      <td>6</td>\n",
       "      <td>5/2/2020 13:58</td>\n",
       "      <td>245230</td>\n",
       "      <td>44</td>\n",
       "      <td>40</td>\n",
       "      <td>...</td>\n",
       "      <td>0</td>\n",
       "      <td>0.0</td>\n",
       "      <td>0.0</td>\n",
       "      <td>0.0</td>\n",
       "      <td>0.0</td>\n",
       "      <td>0.0</td>\n",
       "      <td>0.0</td>\n",
       "      <td>0.0</td>\n",
       "      <td>0.0</td>\n",
       "      <td>Normal</td>\n",
       "    </tr>\n",
       "    <tr>\n",
       "      <th>1</th>\n",
       "      <td>185.127.17.56-192.168.20.133-443-53650-6</td>\n",
       "      <td>192.168.20.133</td>\n",
       "      <td>53650</td>\n",
       "      <td>185.127.17.56</td>\n",
       "      <td>443</td>\n",
       "      <td>6</td>\n",
       "      <td>5/2/2020 13:58</td>\n",
       "      <td>1605449</td>\n",
       "      <td>107</td>\n",
       "      <td>149</td>\n",
       "      <td>...</td>\n",
       "      <td>0</td>\n",
       "      <td>0.0</td>\n",
       "      <td>0.0</td>\n",
       "      <td>0.0</td>\n",
       "      <td>0.0</td>\n",
       "      <td>0.0</td>\n",
       "      <td>0.0</td>\n",
       "      <td>0.0</td>\n",
       "      <td>0.0</td>\n",
       "      <td>Normal</td>\n",
       "    </tr>\n",
       "    <tr>\n",
       "      <th>2</th>\n",
       "      <td>192.168.20.133-192.168.20.2-35108-53-6</td>\n",
       "      <td>192.168.20.133</td>\n",
       "      <td>35108</td>\n",
       "      <td>192.168.20.2</td>\n",
       "      <td>53</td>\n",
       "      <td>6</td>\n",
       "      <td>5/2/2020 13:58</td>\n",
       "      <td>53078</td>\n",
       "      <td>5</td>\n",
       "      <td>5</td>\n",
       "      <td>...</td>\n",
       "      <td>0</td>\n",
       "      <td>0.0</td>\n",
       "      <td>0.0</td>\n",
       "      <td>0.0</td>\n",
       "      <td>0.0</td>\n",
       "      <td>0.0</td>\n",
       "      <td>0.0</td>\n",
       "      <td>0.0</td>\n",
       "      <td>0.0</td>\n",
       "      <td>Normal</td>\n",
       "    </tr>\n",
       "    <tr>\n",
       "      <th>3</th>\n",
       "      <td>192.168.20.133-192.168.20.2-35108-53-6</td>\n",
       "      <td>192.168.20.2</td>\n",
       "      <td>53</td>\n",
       "      <td>192.168.20.133</td>\n",
       "      <td>35108</td>\n",
       "      <td>6</td>\n",
       "      <td>5/2/2020 13:58</td>\n",
       "      <td>6975</td>\n",
       "      <td>1</td>\n",
       "      <td>1</td>\n",
       "      <td>...</td>\n",
       "      <td>0</td>\n",
       "      <td>0.0</td>\n",
       "      <td>0.0</td>\n",
       "      <td>0.0</td>\n",
       "      <td>0.0</td>\n",
       "      <td>0.0</td>\n",
       "      <td>0.0</td>\n",
       "      <td>0.0</td>\n",
       "      <td>0.0</td>\n",
       "      <td>Normal</td>\n",
       "    </tr>\n",
       "    <tr>\n",
       "      <th>4</th>\n",
       "      <td>154.59.122.74-192.168.20.133-443-60900-6</td>\n",
       "      <td>192.168.20.133</td>\n",
       "      <td>60900</td>\n",
       "      <td>154.59.122.74</td>\n",
       "      <td>443</td>\n",
       "      <td>6</td>\n",
       "      <td>5/2/2020 13:58</td>\n",
       "      <td>190141</td>\n",
       "      <td>13</td>\n",
       "      <td>16</td>\n",
       "      <td>...</td>\n",
       "      <td>0</td>\n",
       "      <td>0.0</td>\n",
       "      <td>0.0</td>\n",
       "      <td>0.0</td>\n",
       "      <td>0.0</td>\n",
       "      <td>0.0</td>\n",
       "      <td>0.0</td>\n",
       "      <td>0.0</td>\n",
       "      <td>0.0</td>\n",
       "      <td>Normal</td>\n",
       "    </tr>\n",
       "  </tbody>\n",
       "</table>\n",
       "<p>5 rows × 84 columns</p>\n",
       "</div>"
      ],
      "text/plain": [
       "                                    Flow ID          Src IP  Src Port  \\\n",
       "0  185.127.17.56-192.168.20.133-443-53648-6   185.127.17.56       443   \n",
       "1  185.127.17.56-192.168.20.133-443-53650-6  192.168.20.133     53650   \n",
       "2    192.168.20.133-192.168.20.2-35108-53-6  192.168.20.133     35108   \n",
       "3    192.168.20.133-192.168.20.2-35108-53-6    192.168.20.2        53   \n",
       "4  154.59.122.74-192.168.20.133-443-60900-6  192.168.20.133     60900   \n",
       "\n",
       "           Dst IP  Dst Port  Protocol       Timestamp  Flow Duration  \\\n",
       "0  192.168.20.133     53648         6  5/2/2020 13:58         245230   \n",
       "1   185.127.17.56       443         6  5/2/2020 13:58        1605449   \n",
       "2    192.168.20.2        53         6  5/2/2020 13:58          53078   \n",
       "3  192.168.20.133     35108         6  5/2/2020 13:58           6975   \n",
       "4   154.59.122.74       443         6  5/2/2020 13:58         190141   \n",
       "\n",
       "   Tot Fwd Pkts  Tot Bwd Pkts  ...  Fwd Seg Size Min  Active Mean  Active Std  \\\n",
       "0            44            40  ...                 0          0.0         0.0   \n",
       "1           107           149  ...                 0          0.0         0.0   \n",
       "2             5             5  ...                 0          0.0         0.0   \n",
       "3             1             1  ...                 0          0.0         0.0   \n",
       "4            13            16  ...                 0          0.0         0.0   \n",
       "\n",
       "   Active Max  Active Min  Idle Mean  Idle Std  Idle Max  Idle Min   Label  \n",
       "0         0.0         0.0        0.0       0.0       0.0       0.0  Normal  \n",
       "1         0.0         0.0        0.0       0.0       0.0       0.0  Normal  \n",
       "2         0.0         0.0        0.0       0.0       0.0       0.0  Normal  \n",
       "3         0.0         0.0        0.0       0.0       0.0       0.0  Normal  \n",
       "4         0.0         0.0        0.0       0.0       0.0       0.0  Normal  \n",
       "\n",
       "[5 rows x 84 columns]"
      ]
     },
     "execution_count": 8,
     "metadata": {},
     "output_type": "execute_result"
    }
   ],
   "source": [
    "#Load the dataset\n",
    "df = pd.read_csv(\"flow_congestions_data.csv\")\n",
    "\n",
    "# Display basic info\n",
    "print(\"Shape:\", df.shape)\n",
    "df.head()"
   ]
  },
  {
   "cell_type": "code",
   "execution_count": 15,
   "id": "1efa09ee",
   "metadata": {},
   "outputs": [],
   "source": [
    "#Select relevant features\n",
    "selected_features = [\n",
    "    'Flow Duration',\n",
    "    'Tot Fwd Pkts', 'Tot Bwd Pkts',\n",
    "    'TotLen Fwd Pkts', 'TotLen Bwd Pkts',\n",
    "    'Fwd Pkt Len Mean', 'Bwd Pkt Len Mean',\n",
    "    'Flow Byts/s', 'Flow Pkts/s',\n",
    "    'Pkt Len Min', 'Pkt Len Max', 'Pkt Len Mean', 'Pkt Len Std'\n",
    "]\n",
    "\n",
    "df = df[selected_features].dropna()\n",
    "\n",
    "\n"
   ]
  },
  {
   "cell_type": "code",
   "execution_count": 16,
   "id": "1e4b74e5",
   "metadata": {},
   "outputs": [],
   "source": [
    "#normalize the data\n",
    "scaler = StandardScaler()\n",
    "scaled_data = scaler.fit_transform(df)\n"
   ]
  },
  {
   "cell_type": "code",
   "execution_count": 17,
   "id": "24b498f4",
   "metadata": {},
   "outputs": [
    {
     "data": {
      "text/plain": [
       "anomaly\n",
       "normal     194910\n",
       "anomaly     10257\n",
       "Name: count, dtype: int64"
      ]
     },
     "execution_count": 17,
     "metadata": {},
     "output_type": "execute_result"
    }
   ],
   "source": [
    "# Train Isolation Forest\n",
    "iso_forest = IsolationForest(contamination=0.05, random_state=42)\n",
    "predictions = iso_forest.fit_predict(scaled_data)\n",
    "\n",
    "# Add predictions to the DataFrame\n",
    "df['anomaly'] = predictions\n",
    "df['anomaly'] = df['anomaly'].map({1: 'normal', -1: 'anomaly'})\n",
    "\n",
    "# Count results\n",
    "df['anomaly'].value_counts()\n"
   ]
  },
  {
   "cell_type": "code",
   "execution_count": 12,
   "id": "dcb35068",
   "metadata": {},
   "outputs": [
    {
     "data": {
      "image/png": "[encoded data removed]",
      "text/plain": [
       "<Figure size 1000x600 with 1 Axes>"
      ]
     },
     "metadata": {},
     "output_type": "display_data"
    }
   ],
   "source": [
    "# Reduce dimensionality to 2D for visualization\n",
    "pca = PCA(n_components=2)\n",
    "pca_result = pca.fit_transform(scaled_data)\n",
    "\n",
    "# Create a DataFrame for plotting\n",
    "df_plot = pd.DataFrame()\n",
    "df_plot['PCA1'] = pca_result[:, 0]\n",
    "df_plot['PCA2'] = pca_result[:, 1]\n",
    "df_plot['anomaly'] = df['anomaly']\n",
    "\n",
    "# Plot\n",
    "plt.figure(figsize=(10, 6))\n",
    "sns.scatterplot(data=df_plot, x='PCA1', y='PCA2', hue='anomaly', palette={'normal': 'green', 'anomaly': 'red'}, alpha=0.6)\n",
    "plt.title('Isolation Forest: Anomaly Detection (PCA-reduced)')\n",
    "plt.show()\n"
   ]
  },
  {
   "cell_type": "code",
   "execution_count": 19,
   "id": "4ef47fac",
   "metadata": {},
   "outputs": [
    {
     "data": {
      "text/plain": [
       "['scaler.pkl']"
      ]
     },
     "execution_count": 19,
     "metadata": {},
     "output_type": "execute_result"
    }
   ],
   "source": [
    "# Save the trained Isolation Forest model\n",
    "joblib.dump(iso_forest, 'isolation_forest_model.pkl')\n",
    "\n",
    "# Save the scaler\n",
    "joblib.dump(scaler, 'scaler.pkl')\n"
   ]
  }
 ],
 "metadata": {
  "kernelspec": {
   "display_name": "venv39",
   "language": "python",
   "name": "python3"
  },
  "language_info": {
   "codemirror_mode": {
    "name": "ipython",
    "version": 3
   },
   "file_extension": ".py",
   "mimetype": "text/x-python",
   "name": "python",
   "nbconvert_exporter": "python",
   "pygments_lexer": "ipython3",
   "version": "3.9.18"
  }
 },
 "nbformat": 4,
 "nbformat_minor": 5
}
